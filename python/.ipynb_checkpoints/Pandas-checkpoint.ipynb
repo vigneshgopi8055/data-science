{
 "cells": [
  {
   "cell_type": "markdown",
   "id": "fde96576",
   "metadata": {},
   "source": [
    "# PANDAS"
   ]
  },
  {
   "cell_type": "code",
   "execution_count": 1,
   "id": "00326e49",
   "metadata": {},
   "outputs": [
    {
     "name": "stdout",
     "output_type": "stream",
     "text": [
      "Requirement already satisfied: pandas in c:\\users\\vigne\\anaconda3\\lib\\site-packages (1.4.4)\n",
      "Requirement already satisfied: numpy>=1.18.5 in c:\\users\\vigne\\anaconda3\\lib\\site-packages (from pandas) (1.21.5)\n",
      "Requirement already satisfied: pytz>=2020.1 in c:\\users\\vigne\\anaconda3\\lib\\site-packages (from pandas) (2022.1)\n",
      "Requirement already satisfied: python-dateutil>=2.8.1 in c:\\users\\vigne\\anaconda3\\lib\\site-packages (from pandas) (2.8.2)\n",
      "Requirement already satisfied: six>=1.5 in c:\\users\\vigne\\anaconda3\\lib\\site-packages (from python-dateutil>=2.8.1->pandas) (1.16.0)\n",
      "Note: you may need to restart the kernel to use updated packages.\n"
     ]
    }
   ],
   "source": [
    "pip install pandas"
   ]
  },
  {
   "cell_type": "code",
   "execution_count": 2,
   "id": "ba46b759",
   "metadata": {},
   "outputs": [],
   "source": [
    "import pandas as pd"
   ]
  },
  {
   "cell_type": "code",
   "execution_count": 3,
   "id": "3108a2b1",
   "metadata": {},
   "outputs": [],
   "source": [
    "import numpy as np"
   ]
  },
  {
   "cell_type": "markdown",
   "id": "f6e1edd5",
   "metadata": {},
   "source": [
    "### Series"
   ]
  },
  {
   "cell_type": "code",
   "execution_count": 4,
   "id": "a59e377a",
   "metadata": {},
   "outputs": [],
   "source": [
    "#its a one D array that can hold data of anytype"
   ]
  },
  {
   "cell_type": "code",
   "execution_count": 7,
   "id": "e8e5e8e9",
   "metadata": {},
   "outputs": [],
   "source": [
    "s = pd.Series(np.random.rand(5))"
   ]
  },
  {
   "cell_type": "code",
   "execution_count": 8,
   "id": "db7de029",
   "metadata": {},
   "outputs": [
    {
     "data": {
      "text/plain": [
       "0    0.520829\n",
       "1    0.390319\n",
       "2    0.840609\n",
       "3    0.720926\n",
       "4    0.364817\n",
       "dtype: float64"
      ]
     },
     "execution_count": 8,
     "metadata": {},
     "output_type": "execute_result"
    }
   ],
   "source": [
    "s"
   ]
  },
  {
   "cell_type": "code",
   "execution_count": 9,
   "id": "97e6ea81",
   "metadata": {},
   "outputs": [
    {
     "data": {
      "text/plain": [
       "0.7209260486521505"
      ]
     },
     "execution_count": 9,
     "metadata": {},
     "output_type": "execute_result"
    }
   ],
   "source": [
    "s[3]"
   ]
  },
  {
   "cell_type": "code",
   "execution_count": 10,
   "id": "a21417f4",
   "metadata": {},
   "outputs": [
    {
     "data": {
      "text/plain": [
       "0.36481735543304195"
      ]
     },
     "execution_count": 10,
     "metadata": {},
     "output_type": "execute_result"
    }
   ],
   "source": [
    "s[4]"
   ]
  },
  {
   "cell_type": "code",
   "execution_count": 17,
   "id": "25bae786",
   "metadata": {},
   "outputs": [
    {
     "data": {
      "text/plain": [
       "0    0.520829\n",
       "1    0.390319\n",
       "2    0.840609\n",
       "3    0.720926\n",
       "4    0.364817\n",
       "dtype: float64"
      ]
     },
     "execution_count": 17,
     "metadata": {},
     "output_type": "execute_result"
    }
   ],
   "source": [
    "s[0::]"
   ]
  },
  {
   "cell_type": "code",
   "execution_count": 18,
   "id": "4a37b2c9",
   "metadata": {},
   "outputs": [],
   "source": [
    "s[2] = 5.4321"
   ]
  },
  {
   "cell_type": "code",
   "execution_count": 19,
   "id": "becd7040",
   "metadata": {},
   "outputs": [
    {
     "data": {
      "text/plain": [
       "0    0.520829\n",
       "1    0.390319\n",
       "2    5.432100\n",
       "3    0.720926\n",
       "4    0.364817\n",
       "dtype: float64"
      ]
     },
     "execution_count": 19,
     "metadata": {},
     "output_type": "execute_result"
    }
   ],
   "source": [
    "s"
   ]
  },
  {
   "cell_type": "code",
   "execution_count": 25,
   "id": "46627201",
   "metadata": {},
   "outputs": [],
   "source": [
    "s = pd.Series(np.random.rand(5),index = ['a','b','c','d','e'])"
   ]
  },
  {
   "cell_type": "code",
   "execution_count": 26,
   "id": "a5a61eca",
   "metadata": {},
   "outputs": [
    {
     "data": {
      "text/plain": [
       "a    0.340380\n",
       "b    0.425427\n",
       "c    0.377587\n",
       "d    0.195165\n",
       "e    0.899536\n",
       "dtype: float64"
      ]
     },
     "execution_count": 26,
     "metadata": {},
     "output_type": "execute_result"
    }
   ],
   "source": [
    "s"
   ]
  },
  {
   "cell_type": "code",
   "execution_count": 27,
   "id": "7bf8c67d",
   "metadata": {},
   "outputs": [
    {
     "data": {
      "text/plain": [
       "4"
      ]
     },
     "execution_count": 27,
     "metadata": {},
     "output_type": "execute_result"
    }
   ],
   "source": [
    "s.argmax()"
   ]
  },
  {
   "cell_type": "code",
   "execution_count": 28,
   "id": "eaf112ec",
   "metadata": {},
   "outputs": [
    {
     "data": {
      "text/plain": [
       "3"
      ]
     },
     "execution_count": 28,
     "metadata": {},
     "output_type": "execute_result"
    }
   ],
   "source": [
    "s.argmin()"
   ]
  },
  {
   "cell_type": "code",
   "execution_count": 29,
   "id": "421b5343",
   "metadata": {},
   "outputs": [
    {
     "data": {
      "text/plain": [
       "0.4476189777141755"
      ]
     },
     "execution_count": 29,
     "metadata": {},
     "output_type": "execute_result"
    }
   ],
   "source": [
    "s.mean()"
   ]
  },
  {
   "cell_type": "code",
   "execution_count": 30,
   "id": "3f86f40a",
   "metadata": {},
   "outputs": [
    {
     "data": {
      "text/plain": [
       "0.3775872121533588"
      ]
     },
     "execution_count": 30,
     "metadata": {},
     "output_type": "execute_result"
    }
   ],
   "source": [
    "s.median()"
   ]
  },
  {
   "cell_type": "code",
   "execution_count": 31,
   "id": "908dde0a",
   "metadata": {},
   "outputs": [
    {
     "data": {
      "text/plain": [
       "0    0.195165\n",
       "1    0.340380\n",
       "2    0.377587\n",
       "3    0.425427\n",
       "4    0.899536\n",
       "dtype: float64"
      ]
     },
     "execution_count": 31,
     "metadata": {},
     "output_type": "execute_result"
    }
   ],
   "source": [
    "s.mode()"
   ]
  },
  {
   "cell_type": "code",
   "execution_count": 32,
   "id": "5790b060",
   "metadata": {},
   "outputs": [
    {
     "data": {
      "text/plain": [
       "0.8995362747542659"
      ]
     },
     "execution_count": 32,
     "metadata": {},
     "output_type": "execute_result"
    }
   ],
   "source": [
    "s.max()"
   ]
  },
  {
   "cell_type": "code",
   "execution_count": 33,
   "id": "7bb189be",
   "metadata": {},
   "outputs": [
    {
     "data": {
      "text/plain": [
       "0.19516490286367993"
      ]
     },
     "execution_count": 33,
     "metadata": {},
     "output_type": "execute_result"
    }
   ],
   "source": [
    "s.min()"
   ]
  },
  {
   "cell_type": "code",
   "execution_count": 34,
   "id": "8ba9e4b4",
   "metadata": {},
   "outputs": [],
   "source": [
    "arr = np.array([1,2,3,4])"
   ]
  },
  {
   "cell_type": "code",
   "execution_count": 37,
   "id": "61ca1486",
   "metadata": {},
   "outputs": [],
   "source": [
    "s1 = pd.Series(arr) #coverting array to series"
   ]
  },
  {
   "cell_type": "code",
   "execution_count": 38,
   "id": "f1226f18",
   "metadata": {},
   "outputs": [
    {
     "data": {
      "text/plain": [
       "0    1\n",
       "1    2\n",
       "2    3\n",
       "3    4\n",
       "dtype: int32"
      ]
     },
     "execution_count": 38,
     "metadata": {},
     "output_type": "execute_result"
    }
   ],
   "source": [
    "s1"
   ]
  },
  {
   "cell_type": "markdown",
   "id": "71b2b319",
   "metadata": {},
   "source": [
    "### Using Dictionary"
   ]
  },
  {
   "cell_type": "code",
   "execution_count": 39,
   "id": "2c248674",
   "metadata": {},
   "outputs": [],
   "source": [
    "d = {'a':1,'b':2,'c':3,'d':4}"
   ]
  },
  {
   "cell_type": "code",
   "execution_count": 41,
   "id": "9f1bfe7d",
   "metadata": {},
   "outputs": [
    {
     "data": {
      "text/plain": [
       "{'a': 1, 'b': 2, 'c': 3, 'd': 4}"
      ]
     },
     "execution_count": 41,
     "metadata": {},
     "output_type": "execute_result"
    }
   ],
   "source": [
    "d"
   ]
  },
  {
   "cell_type": "code",
   "execution_count": 42,
   "id": "a6cc363c",
   "metadata": {},
   "outputs": [],
   "source": [
    "d_series = pd.Series(d)"
   ]
  },
  {
   "cell_type": "code",
   "execution_count": 43,
   "id": "a137216c",
   "metadata": {},
   "outputs": [
    {
     "data": {
      "text/plain": [
       "a    1\n",
       "b    2\n",
       "c    3\n",
       "d    4\n",
       "dtype: int64"
      ]
     },
     "execution_count": 43,
     "metadata": {},
     "output_type": "execute_result"
    }
   ],
   "source": [
    "d_series"
   ]
  },
  {
   "cell_type": "code",
   "execution_count": 45,
   "id": "0f6ec116",
   "metadata": {},
   "outputs": [
    {
     "data": {
      "text/plain": [
       "pandas.core.series.Series"
      ]
     },
     "execution_count": 45,
     "metadata": {},
     "output_type": "execute_result"
    }
   ],
   "source": [
    "type(d_series)"
   ]
  },
  {
   "cell_type": "code",
   "execution_count": 48,
   "id": "4a5bc6ab",
   "metadata": {},
   "outputs": [
    {
     "data": {
      "text/plain": [
       "b    2\n",
       "c    3\n",
       "d    4\n",
       "dtype: int64"
      ]
     },
     "execution_count": 48,
     "metadata": {},
     "output_type": "execute_result"
    }
   ],
   "source": [
    "d_series.drop('a')"
   ]
  },
  {
   "cell_type": "markdown",
   "id": "b263fa48",
   "metadata": {},
   "source": [
    "## DATAFRAMES"
   ]
  },
  {
   "cell_type": "markdown",
   "id": "09824fdb",
   "metadata": {},
   "source": [
    "Structured dataset : proper rows and columns\\\n",
    "Unstructured dataset : improper rows and columns"
   ]
  },
  {
   "cell_type": "markdown",
   "id": "6d9763d2",
   "metadata": {},
   "source": [
    "DataSet : A Dataset is the basic data container in PyMVPA. It serves as the primary form of data storage, but also as a common container for results returned by most algorithms."
   ]
  },
  {
   "cell_type": "markdown",
   "id": "a4f9091e",
   "metadata": {},
   "source": [
    "PyMVPA : PyMVPA is a Python package intended to ease statistical learning analyses of large datasets. It offers an extensible framework with a high-level interface to a broad range of algorithms for classification, regression, feature selection, data import and export. It is designed to integrate well with related software packages, such as scikit-learn, shogun, MDP, etc. While it is not limited to the neuroimaging domain, it is eminently suited for such datasets. PyMVPA is free software and requires nothing but free-software to run.\n",
    "\n",
    "PyMVPA stands for MultiVariate Pattern Analysis (MVPA) in Python."
   ]
  },
  {
   "cell_type": "code",
   "execution_count": null,
   "id": "15219745",
   "metadata": {},
   "outputs": [],
   "source": []
  }
 ],
 "metadata": {
  "kernelspec": {
   "display_name": "Python 3 (ipykernel)",
   "language": "python",
   "name": "python3"
  },
  "language_info": {
   "codemirror_mode": {
    "name": "ipython",
    "version": 3
   },
   "file_extension": ".py",
   "mimetype": "text/x-python",
   "name": "python",
   "nbconvert_exporter": "python",
   "pygments_lexer": "ipython3",
   "version": "3.9.13"
  }
 },
 "nbformat": 4,
 "nbformat_minor": 5
}
