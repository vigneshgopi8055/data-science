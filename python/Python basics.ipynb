{
 "cells": [
  {
   "cell_type": "markdown",
   "id": "40762dba",
   "metadata": {},
   "source": [
    "# BASICS"
   ]
  },
  {
   "cell_type": "code",
   "execution_count": 1,
   "id": "d9326c22",
   "metadata": {},
   "outputs": [
    {
     "name": "stdout",
     "output_type": "stream",
     "text": [
      "hello world\n"
     ]
    }
   ],
   "source": [
    "print(\"hello world\")"
   ]
  },
  {
   "cell_type": "code",
   "execution_count": 2,
   "id": "f616adf7",
   "metadata": {},
   "outputs": [
    {
     "name": "stdout",
     "output_type": "stream",
     "text": [
      "hello world\n"
     ]
    }
   ],
   "source": [
    "print('hello world')"
   ]
  },
  {
   "cell_type": "markdown",
   "id": "97889ab1",
   "metadata": {},
   "source": [
    "print function is used to print the input"
   ]
  },
  {
   "cell_type": "markdown",
   "id": "437fcc71",
   "metadata": {},
   "source": [
    "To reduce the size of heading use hash keys"
   ]
  },
  {
   "cell_type": "markdown",
   "id": "b1a70f00",
   "metadata": {},
   "source": [
    "Data types\n",
    ">integer - 2\\\n",
    ">float - 2.56\\\n",
    ">boolean - True"
   ]
  },
  {
   "cell_type": "markdown",
   "id": "a5dab5cd",
   "metadata": {},
   "source": [
    "## operators in python"
   ]
  },
  {
   "cell_type": "markdown",
   "id": "4ce59d1d",
   "metadata": {},
   "source": [
    "Arithmetic operators\\\n",
    "Assignment operators\\\n",
    "Comparison operators\\\n",
    "Logical operators\\\n",
    "Identity operators\\\n",
    "Membership operators\\\n",
    "Bitwise operators"
   ]
  },
  {
   "cell_type": "code",
   "execution_count": 3,
   "id": "f32f39b7",
   "metadata": {},
   "outputs": [
    {
     "name": "stdout",
     "output_type": "stream",
     "text": [
      "a$b$c$d\n"
     ]
    }
   ],
   "source": [
    "print('a','b','c','d',sep = '$')"
   ]
  },
  {
   "cell_type": "markdown",
   "id": "dcdf1aa4",
   "metadata": {},
   "source": [
    "sep keyword is used to seperate the values"
   ]
  },
  {
   "cell_type": "markdown",
   "id": "4fbde58d",
   "metadata": {},
   "source": [
    "ADDITION"
   ]
  },
  {
   "cell_type": "code",
   "execution_count": 4,
   "id": "77cc1ace",
   "metadata": {},
   "outputs": [],
   "source": [
    "x = 50"
   ]
  },
  {
   "cell_type": "code",
   "execution_count": 5,
   "id": "68368900",
   "metadata": {},
   "outputs": [],
   "source": [
    "x = x+10 "
   ]
  },
  {
   "cell_type": "code",
   "execution_count": 6,
   "id": "f23a6c5a",
   "metadata": {},
   "outputs": [
    {
     "data": {
      "text/plain": [
       "60"
      ]
     },
     "execution_count": 6,
     "metadata": {},
     "output_type": "execute_result"
    }
   ],
   "source": [
    "x"
   ]
  },
  {
   "cell_type": "markdown",
   "id": "2c953ae7",
   "metadata": {},
   "source": [
    "SUBRACTION"
   ]
  },
  {
   "cell_type": "code",
   "execution_count": 7,
   "id": "8cc32fe2",
   "metadata": {},
   "outputs": [
    {
     "data": {
      "text/plain": [
       "55"
      ]
     },
     "execution_count": 7,
     "metadata": {},
     "output_type": "execute_result"
    }
   ],
   "source": [
    "x = x-5\n",
    "x"
   ]
  },
  {
   "cell_type": "markdown",
   "id": "b9df085c",
   "metadata": {},
   "source": [
    "MULTIPICATION"
   ]
  },
  {
   "cell_type": "code",
   "execution_count": 8,
   "id": "fa6571bd",
   "metadata": {},
   "outputs": [],
   "source": [
    "x = x*3"
   ]
  },
  {
   "cell_type": "code",
   "execution_count": 9,
   "id": "eaddf4be",
   "metadata": {},
   "outputs": [
    {
     "data": {
      "text/plain": [
       "165"
      ]
     },
     "execution_count": 9,
     "metadata": {},
     "output_type": "execute_result"
    }
   ],
   "source": [
    "x"
   ]
  },
  {
   "cell_type": "code",
   "execution_count": 10,
   "id": "f0181178",
   "metadata": {},
   "outputs": [],
   "source": [
    "a = 10\n",
    "b = 50"
   ]
  },
  {
   "cell_type": "code",
   "execution_count": 11,
   "id": "a4852080",
   "metadata": {},
   "outputs": [],
   "source": [
    "a,b,c = 10,True,30.60"
   ]
  },
  {
   "cell_type": "code",
   "execution_count": 12,
   "id": "0d7a9081",
   "metadata": {},
   "outputs": [
    {
     "name": "stdout",
     "output_type": "stream",
     "text": [
      "10\n",
      "True\n",
      "30.6\n"
     ]
    }
   ],
   "source": [
    "print(a)\n",
    "print(b)\n",
    "print(c)"
   ]
  },
  {
   "cell_type": "code",
   "execution_count": 13,
   "id": "e1b44036",
   "metadata": {},
   "outputs": [
    {
     "name": "stdout",
     "output_type": "stream",
     "text": [
      "<class 'int'>\n",
      "<class 'bool'>\n",
      "<class 'float'>\n"
     ]
    }
   ],
   "source": [
    "print(type(a))\n",
    "print(type(b))\n",
    "print(type(c))"
   ]
  },
  {
   "cell_type": "markdown",
   "id": "2556c1b1",
   "metadata": {},
   "source": [
    "For giving input to the kernel we use input function"
   ]
  },
  {
   "cell_type": "code",
   "execution_count": 14,
   "id": "e24dde4b",
   "metadata": {},
   "outputs": [
    {
     "name": "stdout",
     "output_type": "stream",
     "text": [
      "enter the value : 3\n",
      "enter the value : 4\n",
      "7\n",
      "-1\n"
     ]
    }
   ],
   "source": [
    "a = int(input(\"enter the value : \"))\n",
    "b = int(input(\"enter the value : \"))\n",
    "print(a+b)\n",
    "print(a-b)"
   ]
  },
  {
   "cell_type": "markdown",
   "id": "8d9b1cbd",
   "metadata": {},
   "source": [
    "Arithematic operators"
   ]
  },
  {
   "cell_type": "code",
   "execution_count": 15,
   "id": "311f767c",
   "metadata": {},
   "outputs": [],
   "source": [
    "a = 10\n",
    "b = 25"
   ]
  },
  {
   "cell_type": "code",
   "execution_count": 16,
   "id": "0c59ac80",
   "metadata": {},
   "outputs": [
    {
     "name": "stdout",
     "output_type": "stream",
     "text": [
      "35\n",
      "-15\n",
      "0.4\n",
      "10\n",
      "250\n",
      "10000000000000000000000000\n",
      "2\n",
      "5.0\n"
     ]
    }
   ],
   "source": [
    "print(a+b)\n",
    "print(a-b)\n",
    "print(a/b)\n",
    "print(a%b)\n",
    "print(a*b)\n",
    "print(a**b)  #power function\n",
    "print(b//a)  #quotient\n",
    "print(b**(1/2))"
   ]
  },
  {
   "cell_type": "markdown",
   "id": "3ebd15b7",
   "metadata": {},
   "source": [
    "Relational operators"
   ]
  },
  {
   "cell_type": "code",
   "execution_count": 17,
   "id": "eb206ae0",
   "metadata": {},
   "outputs": [
    {
     "name": "stdout",
     "output_type": "stream",
     "text": [
      "False\n",
      "False\n",
      "False\n",
      "True\n"
     ]
    }
   ],
   "source": [
    "a = 10\n",
    "b = 20\n",
    "print(a>b)\n",
    "print(a>b)\n",
    "print(a>=b)\n",
    "print(a<=b)"
   ]
  },
  {
   "cell_type": "markdown",
   "id": "50c6ccf5",
   "metadata": {},
   "source": [
    "Membership operators"
   ]
  },
  {
   "cell_type": "code",
   "execution_count": 18,
   "id": "9e4469ed",
   "metadata": {},
   "outputs": [
    {
     "name": "stdout",
     "output_type": "stream",
     "text": [
      "True\n",
      "False\n"
     ]
    }
   ],
   "source": [
    "s = 'Python'\n",
    "print('y' in s)\n",
    "print('p' in s) #false because p in in capital"
   ]
  },
  {
   "cell_type": "markdown",
   "id": "f6340175",
   "metadata": {},
   "source": [
    "# Non-primitive Data types"
   ]
  },
  {
   "cell_type": "markdown",
   "id": "d7100c7d",
   "metadata": {},
   "source": [
    "### List"
   ]
  },
  {
   "cell_type": "code",
   "execution_count": 19,
   "id": "b3a8e997",
   "metadata": {},
   "outputs": [
    {
     "name": "stdout",
     "output_type": "stream",
     "text": [
      "4\n"
     ]
    }
   ],
   "source": [
    "list = ['sam',20,9.5,'hyd']\n",
    "print(len(list))\n",
    "del(list[1])"
   ]
  },
  {
   "cell_type": "code",
   "execution_count": 20,
   "id": "89cf72d4",
   "metadata": {},
   "outputs": [
    {
     "name": "stdout",
     "output_type": "stream",
     "text": [
      "sam\n"
     ]
    },
    {
     "ename": "IndexError",
     "evalue": "list index out of range",
     "output_type": "error",
     "traceback": [
      "\u001b[1;31m---------------------------------------------------------------------------\u001b[0m",
      "\u001b[1;31mIndexError\u001b[0m                                Traceback (most recent call last)",
      "\u001b[1;32m~\\AppData\\Local\\Temp\\ipykernel_4664\\146439067.py\u001b[0m in \u001b[0;36m<module>\u001b[1;34m\u001b[0m\n\u001b[0;32m      1\u001b[0m \u001b[0mprint\u001b[0m\u001b[1;33m(\u001b[0m\u001b[0mlist\u001b[0m\u001b[1;33m[\u001b[0m\u001b[1;36m0\u001b[0m\u001b[1;33m]\u001b[0m\u001b[1;33m)\u001b[0m\u001b[1;33m\u001b[0m\u001b[1;33m\u001b[0m\u001b[0m\n\u001b[1;32m----> 2\u001b[1;33m \u001b[0mprint\u001b[0m\u001b[1;33m(\u001b[0m\u001b[0mlist\u001b[0m\u001b[1;33m[\u001b[0m\u001b[1;36m3\u001b[0m\u001b[1;33m]\u001b[0m\u001b[1;33m)\u001b[0m\u001b[1;33m\u001b[0m\u001b[1;33m\u001b[0m\u001b[0m\n\u001b[0m\u001b[0;32m      3\u001b[0m \u001b[0mprint\u001b[0m\u001b[1;33m(\u001b[0m\u001b[0mlist\u001b[0m\u001b[1;33m[\u001b[0m\u001b[1;33m-\u001b[0m\u001b[1;36m1\u001b[0m\u001b[1;33m]\u001b[0m\u001b[1;33m)\u001b[0m \u001b[1;31m#used to fetch the last element\u001b[0m\u001b[1;33m\u001b[0m\u001b[1;33m\u001b[0m\u001b[0m\n",
      "\u001b[1;31mIndexError\u001b[0m: list index out of range"
     ]
    }
   ],
   "source": [
    "print(list[0])\n",
    "print(list[3])\n",
    "print(list[-1]) #used to fetch the last element"
   ]
  },
  {
   "cell_type": "code",
   "execution_count": null,
   "id": "af036283",
   "metadata": {},
   "outputs": [],
   "source": []
  },
  {
   "cell_type": "markdown",
   "id": "e913e1b7",
   "metadata": {},
   "source": [
    "Slicing -  accessing the elements in the specific range"
   ]
  },
  {
   "cell_type": "code",
   "execution_count": null,
   "id": "9c85720e",
   "metadata": {},
   "outputs": [],
   "source": [
    "print(list[1:3]) #start = 1 , end = 2 where 3 is exclusive"
   ]
  },
  {
   "cell_type": "code",
   "execution_count": null,
   "id": "6ad2c5fb",
   "metadata": {},
   "outputs": [],
   "source": [
    "print(list[0:2])"
   ]
  },
  {
   "cell_type": "code",
   "execution_count": null,
   "id": "844de6ee",
   "metadata": {},
   "outputs": [],
   "source": [
    "print(list[1:])"
   ]
  },
  {
   "cell_type": "code",
   "execution_count": null,
   "id": "b17c6991",
   "metadata": {},
   "outputs": [],
   "source": [
    "print(list[::-1]) #reversing the list "
   ]
  },
  {
   "cell_type": "markdown",
   "id": "4cfe783f",
   "metadata": {},
   "source": [
    "### Tuples "
   ]
  },
  {
   "cell_type": "code",
   "execution_count": null,
   "id": "b01101b4",
   "metadata": {},
   "outputs": [],
   "source": [
    "tup = ('vignesh','gopi',21,22)"
   ]
  },
  {
   "cell_type": "code",
   "execution_count": null,
   "id": "d925a8d5",
   "metadata": {},
   "outputs": [],
   "source": [
    "tup"
   ]
  },
  {
   "cell_type": "code",
   "execution_count": null,
   "id": "08c2edb9",
   "metadata": {},
   "outputs": [],
   "source": [
    "tup[0]"
   ]
  },
  {
   "cell_type": "code",
   "execution_count": null,
   "id": "a406e107",
   "metadata": {},
   "outputs": [],
   "source": [
    "tup[3]"
   ]
  },
  {
   "cell_type": "markdown",
   "id": "e7bba06d",
   "metadata": {},
   "source": [
    "same operations can be performed in tuple as in list but tuple is immutable"
   ]
  },
  {
   "cell_type": "code",
   "execution_count": null,
   "id": "b293c7e0",
   "metadata": {},
   "outputs": [],
   "source": [
    "del(tup) #deletes the tuple"
   ]
  },
  {
   "cell_type": "markdown",
   "id": "d59a1dab",
   "metadata": {},
   "source": [
    "### Sets"
   ]
  },
  {
   "cell_type": "code",
   "execution_count": null,
   "id": "d8ddc31a",
   "metadata": {},
   "outputs": [],
   "source": [
    "set = {4,3,'as',1} #gives the output in ordered format"
   ]
  },
  {
   "cell_type": "code",
   "execution_count": null,
   "id": "609a503a",
   "metadata": {},
   "outputs": [],
   "source": [
    "print(set)"
   ]
  },
  {
   "cell_type": "code",
   "execution_count": null,
   "id": "c364b6a7",
   "metadata": {},
   "outputs": [],
   "source": [
    "set = {20,30,10,40}"
   ]
  },
  {
   "cell_type": "code",
   "execution_count": null,
   "id": "cef18aa9",
   "metadata": {},
   "outputs": [],
   "source": [
    "set"
   ]
  },
  {
   "cell_type": "code",
   "execution_count": null,
   "id": "6f788def",
   "metadata": {},
   "outputs": [],
   "source": [
    "set.add(100)"
   ]
  },
  {
   "cell_type": "code",
   "execution_count": null,
   "id": "24d6280a",
   "metadata": {},
   "outputs": [],
   "source": [
    "set"
   ]
  },
  {
   "cell_type": "markdown",
   "id": "d9d96dff",
   "metadata": {},
   "source": [
    "### Dictionary "
   ]
  },
  {
   "cell_type": "code",
   "execution_count": null,
   "id": "8744d352",
   "metadata": {},
   "outputs": [],
   "source": [
    "dict = {'name' : \"vignesh\" , 'age' : 20 }"
   ]
  },
  {
   "cell_type": "code",
   "execution_count": null,
   "id": "426ab1e8",
   "metadata": {},
   "outputs": [],
   "source": [
    "dict"
   ]
  },
  {
   "cell_type": "code",
   "execution_count": null,
   "id": "a0d05ed6",
   "metadata": {},
   "outputs": [],
   "source": [
    "print(dict['name'])"
   ]
  },
  {
   "cell_type": "code",
   "execution_count": null,
   "id": "8bbc046c",
   "metadata": {},
   "outputs": [],
   "source": [
    "dict.keys()"
   ]
  },
  {
   "cell_type": "code",
   "execution_count": null,
   "id": "191bf16d",
   "metadata": {},
   "outputs": [],
   "source": [
    "dict.values()"
   ]
  },
  {
   "cell_type": "code",
   "execution_count": null,
   "id": "abb46650",
   "metadata": {},
   "outputs": [],
   "source": [
    "dict.keys()"
   ]
  },
  {
   "cell_type": "markdown",
   "id": "1a24fea6",
   "metadata": {},
   "source": [
    "## Conditional statements"
   ]
  },
  {
   "cell_type": "markdown",
   "id": "d8f920b0",
   "metadata": {},
   "source": [
    "### If Else"
   ]
  },
  {
   "cell_type": "code",
   "execution_count": null,
   "id": "6252fb0b",
   "metadata": {},
   "outputs": [],
   "source": [
    "x = int(input(\"enter the value \"))\n",
    "if(x == 100):\n",
    "    print(\"correct number\")\n",
    "else:\n",
    "    print(\"incorrect\")"
   ]
  },
  {
   "cell_type": "markdown",
   "id": "65eb092b",
   "metadata": {},
   "source": [
    "## Elif "
   ]
  },
  {
   "cell_type": "code",
   "execution_count": 22,
   "id": "ab49b03f",
   "metadata": {},
   "outputs": [
    {
     "name": "stdout",
     "output_type": "stream",
     "text": [
      "enter the value of a5\n",
      "enter the value of b2\n",
      "a is greater\n"
     ]
    }
   ],
   "source": [
    "a = int(input(\"enter the value of a\"))\n",
    "b = int(input(\"enter the value of b\"))\n",
    "if(a<b):\n",
    "    print(\"b is greater\")\n",
    "elif(a==b):\n",
    "    print(\"a is equal to b\")\n",
    "else:\n",
    "    print(\"a is greater\")\n"
   ]
  },
  {
   "cell_type": "markdown",
   "id": "eb1e6acc",
   "metadata": {},
   "source": [
    "## Loops"
   ]
  },
  {
   "cell_type": "markdown",
   "id": "eedc1ef3",
   "metadata": {},
   "source": [
    "### for loop "
   ]
  },
  {
   "cell_type": "code",
   "execution_count": 23,
   "id": "0af827e5",
   "metadata": {},
   "outputs": [
    {
     "name": "stdout",
     "output_type": "stream",
     "text": [
      "0\n",
      "1\n",
      "2\n",
      "3\n",
      "4\n",
      "5\n",
      "6\n",
      "7\n",
      "8\n",
      "9\n"
     ]
    }
   ],
   "source": [
    "for i in range(10):\n",
    "    print(i)"
   ]
  },
  {
   "cell_type": "code",
   "execution_count": 24,
   "id": "e84eecab",
   "metadata": {},
   "outputs": [
    {
     "name": "stdout",
     "output_type": "stream",
     "text": [
      "9\n",
      "8\n",
      "7\n",
      "6\n",
      "5\n",
      "4\n",
      "3\n",
      "2\n",
      "1\n"
     ]
    }
   ],
   "source": [
    "list = [9,8,7,6,5,4,3,2,1]\n",
    "for i in list:\n",
    "    print(i)\n",
    "    "
   ]
  },
  {
   "cell_type": "markdown",
   "id": "249adbd8",
   "metadata": {},
   "source": [
    "### While loop "
   ]
  },
  {
   "cell_type": "code",
   "execution_count": 25,
   "id": "617e3247",
   "metadata": {},
   "outputs": [
    {
     "name": "stdout",
     "output_type": "stream",
     "text": [
      "0\n",
      "1\n",
      "2\n",
      "3\n",
      "4\n",
      "5\n"
     ]
    }
   ],
   "source": [
    "i = 0\n",
    "while(i<=5):\n",
    "    print(i)\n",
    "    i = i+1"
   ]
  },
  {
   "cell_type": "code",
   "execution_count": 26,
   "id": "de7a0ac4",
   "metadata": {},
   "outputs": [
    {
     "name": "stdout",
     "output_type": "stream",
     "text": [
      "0\n",
      "1\n",
      "1\n",
      "2\n",
      "2\n",
      "3\n",
      "3\n",
      "4\n",
      "4\n",
      "5\n",
      "5\n",
      "6\n",
      "7\n",
      "7\n",
      "8\n"
     ]
    }
   ],
   "source": [
    "#while loop with contine statement\n",
    "#prints all the elements till the condition gets false and skips the condition\n",
    "i = 0\n",
    "while(i<=7):\n",
    "    print(i)\n",
    "    i+=1\n",
    "    if(i==6):\n",
    "        continue\n",
    "    print(i)"
   ]
  },
  {
   "cell_type": "code",
   "execution_count": 28,
   "id": "096904fa",
   "metadata": {},
   "outputs": [
    {
     "name": "stdout",
     "output_type": "stream",
     "text": [
      "0\n",
      "1\n",
      "2\n",
      "3\n"
     ]
    }
   ],
   "source": [
    "i = 0\n",
    "while(i<6):\n",
    "    print (i)\n",
    "    if(i==3):\n",
    "        break\n",
    "    i=i+1"
   ]
  },
  {
   "cell_type": "markdown",
   "id": "7b926dfd",
   "metadata": {},
   "source": [
    "# Functions"
   ]
  },
  {
   "cell_type": "code",
   "execution_count": 29,
   "id": "e13c4da6",
   "metadata": {},
   "outputs": [],
   "source": [
    "def func1():   #defining function\n",
    "    print('hello')\n",
    "    print('good morining')"
   ]
  },
  {
   "cell_type": "code",
   "execution_count": 32,
   "id": "c7eb2b6c",
   "metadata": {},
   "outputs": [
    {
     "name": "stdout",
     "output_type": "stream",
     "text": [
      "hello\n",
      "good morining\n"
     ]
    }
   ],
   "source": [
    "func1() #calling function"
   ]
  },
  {
   "cell_type": "code",
   "execution_count": 33,
   "id": "ffcd8725",
   "metadata": {},
   "outputs": [],
   "source": [
    "def func2(name):\n",
    "    print(\"good morining \" + name)"
   ]
  },
  {
   "cell_type": "code",
   "execution_count": 34,
   "id": "6b0991b4",
   "metadata": {},
   "outputs": [
    {
     "name": "stdout",
     "output_type": "stream",
     "text": [
      "good morining vignesh\n"
     ]
    }
   ],
   "source": [
    "func2('vignesh')"
   ]
  },
  {
   "cell_type": "code",
   "execution_count": 37,
   "id": "91be83ce",
   "metadata": {},
   "outputs": [],
   "source": [
    "def add(a,b):\n",
    "    c = a+b\n",
    "    print(c)"
   ]
  },
  {
   "cell_type": "code",
   "execution_count": 38,
   "id": "254f07e9",
   "metadata": {},
   "outputs": [
    {
     "name": "stdout",
     "output_type": "stream",
     "text": [
      "7\n"
     ]
    }
   ],
   "source": [
    "add(3,4)"
   ]
  },
  {
   "cell_type": "code",
   "execution_count": 39,
   "id": "585d6951",
   "metadata": {},
   "outputs": [],
   "source": [
    "def area(radius):\n",
    "    ans = 3.14*radius*radius\n",
    "    print(ans)"
   ]
  },
  {
   "cell_type": "code",
   "execution_count": 40,
   "id": "e868bdbd",
   "metadata": {},
   "outputs": [
    {
     "name": "stdout",
     "output_type": "stream",
     "text": [
      "78.5\n"
     ]
    }
   ],
   "source": [
    "area(5)"
   ]
  },
  {
   "cell_type": "code",
   "execution_count": 41,
   "id": "ae4b3309",
   "metadata": {},
   "outputs": [],
   "source": [
    "def bmi(mass,height):\n",
    "    return mass/height**2"
   ]
  },
  {
   "cell_type": "code",
   "execution_count": 42,
   "id": "57be4a74",
   "metadata": {},
   "outputs": [
    {
     "data": {
      "text/plain": [
       "0.0021604938271604936"
      ]
     },
     "execution_count": 42,
     "metadata": {},
     "output_type": "execute_result"
    }
   ],
   "source": [
    "bmi(70,180)"
   ]
  },
  {
   "cell_type": "markdown",
   "id": "459e780e",
   "metadata": {},
   "source": [
    "## LAMBDA function"
   ]
  },
  {
   "cell_type": "code",
   "execution_count": 48,
   "id": "20c09504",
   "metadata": {},
   "outputs": [],
   "source": [
    "x = lambda a,b:a+b"
   ]
  },
  {
   "cell_type": "code",
   "execution_count": 49,
   "id": "d5021898",
   "metadata": {},
   "outputs": [
    {
     "data": {
      "text/plain": [
       "7"
      ]
     },
     "execution_count": 49,
     "metadata": {},
     "output_type": "execute_result"
    }
   ],
   "source": [
    "x(3,4)"
   ]
  },
  {
   "cell_type": "code",
   "execution_count": 50,
   "id": "3a43077e",
   "metadata": {},
   "outputs": [],
   "source": [
    "x = lambda a,b:a-b"
   ]
  },
  {
   "cell_type": "code",
   "execution_count": 51,
   "id": "11353532",
   "metadata": {},
   "outputs": [
    {
     "data": {
      "text/plain": [
       "4"
      ]
     },
     "execution_count": 51,
     "metadata": {},
     "output_type": "execute_result"
    }
   ],
   "source": [
    "x(7,3)"
   ]
  },
  {
   "cell_type": "code",
   "execution_count": null,
   "id": "a7e3f48e",
   "metadata": {},
   "outputs": [],
   "source": []
  }
 ],
 "metadata": {
  "kernelspec": {
   "display_name": "Python 3 (ipykernel)",
   "language": "python",
   "name": "python3"
  },
  "language_info": {
   "codemirror_mode": {
    "name": "ipython",
    "version": 3
   },
   "file_extension": ".py",
   "mimetype": "text/x-python",
   "name": "python",
   "nbconvert_exporter": "python",
   "pygments_lexer": "ipython3",
   "version": "3.9.13"
  }
 },
 "nbformat": 4,
 "nbformat_minor": 5
}
